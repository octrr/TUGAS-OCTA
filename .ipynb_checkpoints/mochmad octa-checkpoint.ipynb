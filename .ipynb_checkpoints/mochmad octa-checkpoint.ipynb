{
 "cells": [
  {
   "cell_type": "code",
   "execution_count": 2,
   "id": "9f0b5ee2",
   "metadata": {},
   "outputs": [
    {
     "name": "stdout",
     "output_type": "stream",
     "text": [
      "masukan nama : mochamad octa ramadhan\n",
      "masukan kelas : TI22 F\n",
      "masukan nim : 20220040207\n",
      "masukan jurusan : teknik informatika\n",
      "Hello, nama saya mochamad octa ramadhan, kelas saya TI22 F, nim 20220040207, jurusan teknik informatika \n"
     ]
    }
   ],
   "source": [
    "#!/usr/bin/env python\n",
    "# coding: utf-8\n",
    "\n",
    "# In[ ]:\n",
    "\n",
    "\n",
    "# 1.Buatlah biodata sederhana dengan menggunakan fungsi input(), dan output variabel dengan fungsi format().\n",
    "\n",
    "\n",
    "# In[1]:\n",
    "\n",
    "\n",
    "nama = input(\"masukan nama : \")\n",
    "kelas = input(\"masukan kelas : \")\n",
    "nim  = input(\"masukan nim : \")\n",
    "jurusan  = input(\"masukan jurusan : \")\n",
    "\n",
    "print(\"Hello, nama saya %s, kelas saya %s, nim %s, jurusan %s \" % (nama, kelas, nim, jurusan))\n",
    "\n",
    "\n",
    "# In[ ]:"
   ]
  },
  {
   "cell_type": "code",
   "execution_count": 3,
   "id": "b7df58d4",
   "metadata": {},
   "outputs": [
    {
     "name": "stdout",
     "output_type": "stream",
     "text": [
      "JAWABAN OPTION A : putra nusa\n",
      "JAWABAN OPTION B : NIVERSITAS NSA PTRA  SUKABUMI\n",
      "JAWABAN OPTION C : SUKABUMI PUTRA NUSA UNIVERSITAS\n",
      "JAWABAN OPTION D : UNPS\n",
      "JAWABAN OPTION E : TAS SAPU BUMI\n"
     ]
    }
   ],
   "source": [
    "judul = \"UNIVERSITAS NUSA PUTRA SUKABUMI\"\n",
    "\n",
    "a = judul[17:22].lower()+' '+judul[12:16].lower()\n",
    "b = judul[1:11]+' '+judul[12]+judul[14:16]+' '+judul[17]+judul[19:22]+' '+judul[22:31].upper()\n",
    "c = judul[23:31]+' '+judul[17:22]+' '+judul[12:16]+' '+judul[0:11].upper()\n",
    "d = judul[0]+judul[12]+judul[17]+judul[23].upper()\n",
    "e = judul[8:11]+' '+judul[14:16]+judul[17:19]+' '+judul[27:31].upper()\n",
    "\n",
    "print(\"JAWABAN OPTION A :\", a)\n",
    "print(\"JAWABAN OPTION B :\", b)\n",
    "print(\"JAWABAN OPTION C :\", c)\n",
    "print(\"JAWABAN OPTION D :\", d)\n",
    "print(\"JAWABAN OPTION E :\", e)"
   ]
  }
 ],
 "metadata": {
  "kernelspec": {
   "display_name": "Python 3 (ipykernel)",
   "language": "python",
   "name": "python3"
  },
  "language_info": {
   "codemirror_mode": {
    "name": "ipython",
    "version": 3
   },
   "file_extension": ".py",
   "mimetype": "text/x-python",
   "name": "python",
   "nbconvert_exporter": "python",
   "pygments_lexer": "ipython3",
   "version": "3.9.12"
  }
 },
 "nbformat": 4,
 "nbformat_minor": 5
}
